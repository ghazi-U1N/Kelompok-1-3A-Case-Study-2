{
  "nbformat": 4,
  "nbformat_minor": 0,
  "metadata": {
    "colab": {
      "provenance": [],
      "name": "Kelompok 1 3A Case Study 2",
      "authorship_tag": "ABX9TyOKDKY4A10eYi/wl+eMb3Jr",
      "include_colab_link": true
    },
    "kernelspec": {
      "name": "python3",
      "display_name": "Python 3"
    },
    "language_info": {
      "name": "python"
    }
  },
  "cells": [
    {
      "cell_type": "markdown",
      "metadata": {
        "id": "view-in-github",
        "colab_type": "text"
      },
      "source": [
        "<a href=\"https://colab.research.google.com/github/ghazi-U1N/Kelompok-1-3A-Case-Study-2/blob/main/Kelompok_1_3A_Case_Study_2.ipynb\" target=\"_parent\"><img src=\"https://colab.research.google.com/assets/colab-badge.svg\" alt=\"Open In Colab\"/></a>"
      ]
    },
    {
      "cell_type": "markdown",
      "source": [
        "### NAMA KELOMPOK\n",
        "\n",
        "\n",
        "*   Ghazi Al Ghifari (11210940000001)\n",
        "*   Nursia (11210940000002)\n",
        "*   Siti Nurcholisah Dwi (11210940000009)\n",
        "*   Febiola br Tarigan (11210940000015)\n",
        "*   Heny Rosyidatun Nafilah (11210940000016)\n",
        "*   Ananda Aprilia (11210940000032)\n",
        "\n"
      ],
      "metadata": {
        "id": "AJyOZZF9DRyj"
      }
    },
    {
      "cell_type": "code",
      "execution_count": null,
      "metadata": {
        "id": "hvzEaiI0-1Fc"
      },
      "outputs": [],
      "source": [
        "import numpy as np"
      ]
    }
  ]
}